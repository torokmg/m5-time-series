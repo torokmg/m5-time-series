{
 "cells": [
  {
   "cell_type": "markdown",
   "metadata": {
    "colab_type": "text",
    "id": "YrANT3UJvXxn"
   },
   "source": [
    "# M5 Forecasting"
   ]
  },
  {
   "cell_type": "markdown",
   "metadata": {
    "colab_type": "text",
    "id": "2LBZDImjIDwn"
   },
   "source": [
    "## Google Colab Setup\n",
    "Commands to mount data from drive to colab environment"
   ]
  },
  {
   "cell_type": "code",
   "execution_count": 2,
   "metadata": {
    "colab": {
     "base_uri": "https://localhost:8080/",
     "height": 122
    },
    "colab_type": "code",
    "executionInfo": {
     "elapsed": 30816,
     "status": "ok",
     "timestamp": 1592931341688,
     "user": {
      "displayName": "Jesse Neumann",
      "photoUrl": "",
      "userId": "06645636657267556117"
     },
     "user_tz": 360
    },
    "id": "PJZ3YS4X-rX-",
    "outputId": "66fcfe6b-31e5-40f0-8525-b09a17261a33"
   },
   "outputs": [
    {
     "name": "stdout",
     "output_type": "stream",
     "text": [
      "Go to this URL in a browser: https://accounts.google.com/o/oauth2/auth?client_id=947318989803-6bn6qk8qdgf4n4g3pfee6491hc0brc4i.apps.googleusercontent.com&redirect_uri=urn%3aietf%3awg%3aoauth%3a2.0%3aoob&response_type=code&scope=email%20https%3a%2f%2fwww.googleapis.com%2fauth%2fdocs.test%20https%3a%2f%2fwww.googleapis.com%2fauth%2fdrive%20https%3a%2f%2fwww.googleapis.com%2fauth%2fdrive.photos.readonly%20https%3a%2f%2fwww.googleapis.com%2fauth%2fpeopleapi.readonly\n",
      "\n",
      "Enter your authorization code:\n",
      "··········\n",
      "Mounted at /content/drive\n"
     ]
    }
   ],
   "source": [
    "from google.colab import drive\n",
    "drive.mount('/content/drive')"
   ]
  },
  {
   "cell_type": "code",
   "execution_count": 3,
   "metadata": {
    "colab": {},
    "colab_type": "code",
    "executionInfo": {
     "elapsed": 95116,
     "status": "ok",
     "timestamp": 1592931405991,
     "user": {
      "displayName": "Jesse Neumann",
      "photoUrl": "",
      "userId": "06645636657267556117"
     },
     "user_tz": 360
    },
    "id": "8ImOl9xVIQAj"
   },
   "outputs": [],
   "source": [
    "!cp /content/drive/My\\ Drive/m5/*.pickle /content/"
   ]
  },
  {
   "cell_type": "markdown",
   "metadata": {
    "colab_type": "text",
    "id": "1DAQIOWQfvrv"
   },
   "source": [
    "# Feature Engineering\n",
    "Ideas: \n",
    "- Calculate daily sales in USD:\n",
    "data['sales_usd'] = data['sale'] * data['sell_price']"
   ]
  },
  {
   "cell_type": "markdown",
   "metadata": {
    "colab_type": "text",
    "id": "BnXQYamK0ZvZ"
   },
   "source": [
    "# Library\n",
    "Functions and classes required for the modeling pipeline"
   ]
  },
  {
   "cell_type": "markdown",
   "metadata": {
    "colab_type": "text",
    "id": "Z3gwFfW7GvIi"
   },
   "source": [
    "## Load Store Data\n",
    "Load all of the data associated for the given store number"
   ]
  },
  {
   "cell_type": "code",
   "execution_count": 4,
   "metadata": {
    "colab": {},
    "colab_type": "code",
    "executionInfo": {
     "elapsed": 95113,
     "status": "ok",
     "timestamp": 1592931405993,
     "user": {
      "displayName": "Jesse Neumann",
      "photoUrl": "",
      "userId": "06645636657267556117"
     },
     "user_tz": 360
    },
    "id": "k8TgEBccGumR"
   },
   "outputs": [],
   "source": [
    "import pandas as pd\n",
    "def load_store(store_id):\n",
    "  \"\"\"Loads from the project root directory\"\"\"\n",
    "  return pd.read_pickle(f\"./StoreID_{store_id}.pickle\")"
   ]
  },
  {
   "cell_type": "markdown",
   "metadata": {
    "colab_type": "text",
    "id": "49asxo3BIsoZ"
   },
   "source": [
    "### Example\n",
    "Read in DataFrame for store '0'"
   ]
  },
  {
   "cell_type": "code",
   "execution_count": 5,
   "metadata": {
    "colab": {
     "base_uri": "https://localhost:8080/",
     "height": 340
    },
    "colab_type": "code",
    "executionInfo": {
     "elapsed": 95407,
     "status": "ok",
     "timestamp": 1592931406302,
     "user": {
      "displayName": "Jesse Neumann",
      "photoUrl": "",
      "userId": "06645636657267556117"
     },
     "user_tz": 360
    },
    "id": "JRCUtlYsIrso",
    "outputId": "27477b97-fcd8-4e30-f84a-29d546c4620a"
   },
   "outputs": [
    {
     "data": {
      "text/html": [
       "<div>\n",
       "<style scoped>\n",
       "    .dataframe tbody tr th:only-of-type {\n",
       "        vertical-align: middle;\n",
       "    }\n",
       "\n",
       "    .dataframe tbody tr th {\n",
       "        vertical-align: top;\n",
       "    }\n",
       "\n",
       "    .dataframe thead th {\n",
       "        text-align: right;\n",
       "    }\n",
       "</style>\n",
       "<table border=\"1\" class=\"dataframe\">\n",
       "  <thead>\n",
       "    <tr style=\"text-align: right;\">\n",
       "      <th></th>\n",
       "      <th>id</th>\n",
       "      <th>item_id</th>\n",
       "      <th>dept_id</th>\n",
       "      <th>cat_id</th>\n",
       "      <th>store_id</th>\n",
       "      <th>state_id</th>\n",
       "      <th>sold</th>\n",
       "      <th>wm_yr_wk</th>\n",
       "      <th>wday</th>\n",
       "      <th>month</th>\n",
       "      <th>year</th>\n",
       "      <th>event_name_1</th>\n",
       "      <th>event_type_1</th>\n",
       "      <th>event_name_2</th>\n",
       "      <th>event_type_2</th>\n",
       "      <th>snap_CA</th>\n",
       "      <th>snap_TX</th>\n",
       "      <th>snap_WI</th>\n",
       "      <th>sell_price</th>\n",
       "    </tr>\n",
       "    <tr>\n",
       "      <th>date</th>\n",
       "      <th></th>\n",
       "      <th></th>\n",
       "      <th></th>\n",
       "      <th></th>\n",
       "      <th></th>\n",
       "      <th></th>\n",
       "      <th></th>\n",
       "      <th></th>\n",
       "      <th></th>\n",
       "      <th></th>\n",
       "      <th></th>\n",
       "      <th></th>\n",
       "      <th></th>\n",
       "      <th></th>\n",
       "      <th></th>\n",
       "      <th></th>\n",
       "      <th></th>\n",
       "      <th></th>\n",
       "      <th></th>\n",
       "    </tr>\n",
       "  </thead>\n",
       "  <tbody>\n",
       "    <tr>\n",
       "      <th>2011-01-29</th>\n",
       "      <td>HOBBIES_1_001_CA_1_validation</td>\n",
       "      <td>1437</td>\n",
       "      <td>3</td>\n",
       "      <td>1</td>\n",
       "      <td>0</td>\n",
       "      <td>0</td>\n",
       "      <td>0</td>\n",
       "      <td>11101</td>\n",
       "      <td>1</td>\n",
       "      <td>1</td>\n",
       "      <td>2011</td>\n",
       "      <td>30</td>\n",
       "      <td>4</td>\n",
       "      <td>4</td>\n",
       "      <td>2</td>\n",
       "      <td>0</td>\n",
       "      <td>0</td>\n",
       "      <td>0</td>\n",
       "      <td>NaN</td>\n",
       "    </tr>\n",
       "    <tr>\n",
       "      <th>2011-01-29</th>\n",
       "      <td>HOBBIES_1_002_CA_1_validation</td>\n",
       "      <td>1438</td>\n",
       "      <td>3</td>\n",
       "      <td>1</td>\n",
       "      <td>0</td>\n",
       "      <td>0</td>\n",
       "      <td>0</td>\n",
       "      <td>11101</td>\n",
       "      <td>1</td>\n",
       "      <td>1</td>\n",
       "      <td>2011</td>\n",
       "      <td>30</td>\n",
       "      <td>4</td>\n",
       "      <td>4</td>\n",
       "      <td>2</td>\n",
       "      <td>0</td>\n",
       "      <td>0</td>\n",
       "      <td>0</td>\n",
       "      <td>NaN</td>\n",
       "    </tr>\n",
       "    <tr>\n",
       "      <th>2011-01-29</th>\n",
       "      <td>HOBBIES_1_003_CA_1_validation</td>\n",
       "      <td>1439</td>\n",
       "      <td>3</td>\n",
       "      <td>1</td>\n",
       "      <td>0</td>\n",
       "      <td>0</td>\n",
       "      <td>0</td>\n",
       "      <td>11101</td>\n",
       "      <td>1</td>\n",
       "      <td>1</td>\n",
       "      <td>2011</td>\n",
       "      <td>30</td>\n",
       "      <td>4</td>\n",
       "      <td>4</td>\n",
       "      <td>2</td>\n",
       "      <td>0</td>\n",
       "      <td>0</td>\n",
       "      <td>0</td>\n",
       "      <td>NaN</td>\n",
       "    </tr>\n",
       "    <tr>\n",
       "      <th>2011-01-29</th>\n",
       "      <td>HOBBIES_1_004_CA_1_validation</td>\n",
       "      <td>1440</td>\n",
       "      <td>3</td>\n",
       "      <td>1</td>\n",
       "      <td>0</td>\n",
       "      <td>0</td>\n",
       "      <td>0</td>\n",
       "      <td>11101</td>\n",
       "      <td>1</td>\n",
       "      <td>1</td>\n",
       "      <td>2011</td>\n",
       "      <td>30</td>\n",
       "      <td>4</td>\n",
       "      <td>4</td>\n",
       "      <td>2</td>\n",
       "      <td>0</td>\n",
       "      <td>0</td>\n",
       "      <td>0</td>\n",
       "      <td>NaN</td>\n",
       "    </tr>\n",
       "    <tr>\n",
       "      <th>2011-01-29</th>\n",
       "      <td>HOBBIES_1_005_CA_1_validation</td>\n",
       "      <td>1441</td>\n",
       "      <td>3</td>\n",
       "      <td>1</td>\n",
       "      <td>0</td>\n",
       "      <td>0</td>\n",
       "      <td>0</td>\n",
       "      <td>11101</td>\n",
       "      <td>1</td>\n",
       "      <td>1</td>\n",
       "      <td>2011</td>\n",
       "      <td>30</td>\n",
       "      <td>4</td>\n",
       "      <td>4</td>\n",
       "      <td>2</td>\n",
       "      <td>0</td>\n",
       "      <td>0</td>\n",
       "      <td>0</td>\n",
       "      <td>NaN</td>\n",
       "    </tr>\n",
       "  </tbody>\n",
       "</table>\n",
       "</div>"
      ],
      "text/plain": [
       "                                       id  item_id  ...  snap_WI  sell_price\n",
       "date                                                ...                     \n",
       "2011-01-29  HOBBIES_1_001_CA_1_validation     1437  ...        0         NaN\n",
       "2011-01-29  HOBBIES_1_002_CA_1_validation     1438  ...        0         NaN\n",
       "2011-01-29  HOBBIES_1_003_CA_1_validation     1439  ...        0         NaN\n",
       "2011-01-29  HOBBIES_1_004_CA_1_validation     1440  ...        0         NaN\n",
       "2011-01-29  HOBBIES_1_005_CA_1_validation     1441  ...        0         NaN\n",
       "\n",
       "[5 rows x 19 columns]"
      ]
     },
     "execution_count": 5,
     "metadata": {
      "tags": []
     },
     "output_type": "execute_result"
    }
   ],
   "source": [
    "store_01_df = load_store('0')\n",
    "store_01_df.head()"
   ]
  },
  {
   "cell_type": "code",
   "execution_count": 24,
   "metadata": {
    "colab": {
     "base_uri": "https://localhost:8080/",
     "height": 459
    },
    "colab_type": "code",
    "executionInfo": {
     "elapsed": 519,
     "status": "ok",
     "timestamp": 1592932532592,
     "user": {
      "displayName": "Jesse Neumann",
      "photoUrl": "",
      "userId": "06645636657267556117"
     },
     "user_tz": 360
    },
    "id": "xXvt_AIFLWDS",
    "outputId": "8a587a1f-8695-450d-afb9-920a3a2c1877"
   },
   "outputs": [
    {
     "name": "stdout",
     "output_type": "stream",
     "text": [
      "<class 'pandas.core.frame.DataFrame'>\n",
      "DatetimeIndex: 4702895 entries, 2011-01-29 to 2016-04-24\n",
      "Data columns (total 19 columns):\n",
      " #   Column        Dtype   \n",
      "---  ------        -----   \n",
      " 0   id            category\n",
      " 1   item_id       int16   \n",
      " 2   dept_id       int8    \n",
      " 3   cat_id        int8    \n",
      " 4   store_id      int8    \n",
      " 5   state_id      int8    \n",
      " 6   sold          int16   \n",
      " 7   wm_yr_wk      int16   \n",
      " 8   wday          int8    \n",
      " 9   month         int8    \n",
      " 10  year          int16   \n",
      " 11  event_name_1  int8    \n",
      " 12  event_type_1  int8    \n",
      " 13  event_name_2  int8    \n",
      " 14  event_type_2  int8    \n",
      " 15  snap_CA       int8    \n",
      " 16  snap_TX       int8    \n",
      " 17  snap_WI       int8    \n",
      " 18  sell_price    float16 \n",
      "dtypes: category(1), float16(1), int16(4), int8(13)\n",
      "memory usage: 149.5 MB\n"
     ]
    }
   ],
   "source": [
    "store_01_df.info()"
   ]
  },
  {
   "cell_type": "markdown",
   "metadata": {
    "colab_type": "text",
    "id": "6uaIEO85vPdU"
   },
   "source": [
    "## Data Generator\n",
    "Neural networks generally use a generator the create the correct size of batches to be fed into the network. \n",
    "\n",
    "Takes DataFrame and spits out batch of data by day. For example setting the date range as one day will return data for that day on each item in the dataset."
   ]
  },
  {
   "cell_type": "code",
   "execution_count": 28,
   "metadata": {
    "colab": {
     "base_uri": "https://localhost:8080/",
     "height": 34
    },
    "colab_type": "code",
    "executionInfo": {
     "elapsed": 528,
     "status": "ok",
     "timestamp": 1592932818225,
     "user": {
      "displayName": "Jesse Neumann",
      "photoUrl": "",
      "userId": "06645636657267556117"
     },
     "user_tz": 360
    },
    "id": "DmLwZz4cMcu_",
    "outputId": "0ad1935b-db1b-424e-f724-25db29614992"
   },
   "outputs": [
    {
     "data": {
      "text/plain": [
       "730"
      ]
     },
     "execution_count": 28,
     "metadata": {
      "tags": []
     },
     "output_type": "execute_result"
    }
   ],
   "source": [
    "365*2"
   ]
  },
  {
   "cell_type": "code",
   "execution_count": 57,
   "metadata": {
    "colab": {},
    "colab_type": "code",
    "executionInfo": {
     "elapsed": 248198,
     "status": "ok",
     "timestamp": 1592936872352,
     "user": {
      "displayName": "Jesse Neumann",
      "photoUrl": "",
      "userId": "06645636657267556117"
     },
     "user_tz": 360
    },
    "id": "QEUhZJZmnQ52"
   },
   "outputs": [],
   "source": [
    "from keras.preprocessing.sequence import TimeseriesGenerator\n",
    "import numpy as np\n",
    "from sklearn.preprocessing import StandardScaler\n",
    "\n",
    "\n",
    "store_01_df = prep_sales(store_01_df)\n",
    "\n",
    "# seperate target from predictors\n",
    "targets = store_01_df['2014-04-25':'2016-04-24']['sold'].values\n",
    "data = store_01_df['2014-04-25':'2016-04-24'].drop('sold', axis=1).select_dtypes(include='number').to_numpy()\n"
   ]
  },
  {
   "cell_type": "code",
   "execution_count": 56,
   "metadata": {
    "colab": {},
    "colab_type": "code",
    "executionInfo": {
     "elapsed": 733,
     "status": "ok",
     "timestamp": 1592936620846,
     "user": {
      "displayName": "Jesse Neumann",
      "photoUrl": "",
      "userId": "06645636657267556117"
     },
     "user_tz": 360
    },
    "id": "KIlKtPw7Y5Tz"
   },
   "outputs": [],
   "source": [
    "def prep_sales(df):\n",
    "    df['lag_t28'] = df.groupby(['id'])['sold'].transform(lambda x: x.shift(28))\n",
    "    df['rolling_mean_t7'] = df.groupby(['id'])['sold'].transform(lambda x: x.shift(28).rolling(7).mean())\n",
    "    df['rolling_mean_t30'] = df.groupby(['id'])['sold'].transform(lambda x: x.shift(28).rolling(30).mean())\n",
    "    df['rolling_mean_t60'] = df.groupby(['id'])['sold'].transform(lambda x: x.shift(28).rolling(60).mean())\n",
    "    df['rolling_mean_t90'] = df.groupby(['id'])['sold'].transform(lambda x: x.shift(28).rolling(90).mean())\n",
    "    df['rolling_mean_t180'] = df.groupby(['id'])['sold'].transform(lambda x: x.shift(28).rolling(180).mean())\n",
    "    df['rolling_std_t7'] = df.groupby(['id'])['sold'].transform(lambda x: x.shift(28).rolling(7).std())\n",
    "    df['rolling_std_t30'] = df.groupby(['id'])['sold'].transform(lambda x: x.shift(28).rolling(30).std())\n",
    "\n",
    "    # Remove rows with NAs except for submission rows. rolling_mean_t180 was selected as it produces most missings\n",
    "    df = df[(pd.notna(df.rolling_mean_t180))]\n",
    "\n",
    "    return df"
   ]
  },
  {
   "cell_type": "code",
   "execution_count": 58,
   "metadata": {
    "colab": {},
    "colab_type": "code",
    "executionInfo": {
     "elapsed": 1767,
     "status": "ok",
     "timestamp": 1592936940264,
     "user": {
      "displayName": "Jesse Neumann",
      "photoUrl": "",
      "userId": "06645636657267556117"
     },
     "user_tz": 360
    },
    "id": "po4WgYtzY4Qk"
   },
   "outputs": [],
   "source": [
    "ss = StandardScaler()\n",
    "data = ss.fit_transform(data)"
   ]
  },
  {
   "cell_type": "code",
   "execution_count": 59,
   "metadata": {
    "colab": {},
    "colab_type": "code",
    "executionInfo": {
     "elapsed": 544,
     "status": "ok",
     "timestamp": 1592936942120,
     "user": {
      "displayName": "Jesse Neumann",
      "photoUrl": "",
      "userId": "06645636657267556117"
     },
     "user_tz": 360
    },
    "id": "C3t68TBgSXHh"
   },
   "outputs": [],
   "source": [
    "X_train = data[:-28*3048]\n",
    "y_train = targets[:-28*3048]\n",
    "X_test = data[-28*3048:]\n",
    "y_test = targets[-28*3048:]"
   ]
  },
  {
   "cell_type": "code",
   "execution_count": 60,
   "metadata": {
    "colab": {
     "base_uri": "https://localhost:8080/",
     "height": 34
    },
    "colab_type": "code",
    "executionInfo": {
     "elapsed": 512,
     "status": "ok",
     "timestamp": 1592936943203,
     "user": {
      "displayName": "Jesse Neumann",
      "photoUrl": "",
      "userId": "06645636657267556117"
     },
     "user_tz": 360
    },
    "id": "ctGUAf9nXocm",
    "outputId": "1b847673-2a96-42cd-fa41-c45e297976c5"
   },
   "outputs": [
    {
     "data": {
      "text/plain": [
       "(2027301, 25)"
      ]
     },
     "execution_count": 60,
     "metadata": {
      "tags": []
     },
     "output_type": "execute_result"
    }
   ],
   "source": [
    "X_train.shape"
   ]
  },
  {
   "cell_type": "code",
   "execution_count": 61,
   "metadata": {
    "colab": {
     "base_uri": "https://localhost:8080/",
     "height": 34
    },
    "colab_type": "code",
    "executionInfo": {
     "elapsed": 724,
     "status": "ok",
     "timestamp": 1592936945069,
     "user": {
      "displayName": "Jesse Neumann",
      "photoUrl": "",
      "userId": "06645636657267556117"
     },
     "user_tz": 360
    },
    "id": "35jmFS2DPYSa",
    "outputId": "59fc8d54-0e95-436f-ce73-d7120d71841c"
   },
   "outputs": [
    {
     "data": {
      "text/plain": [
       "(2027301,)"
      ]
     },
     "execution_count": 61,
     "metadata": {
      "tags": []
     },
     "output_type": "execute_result"
    }
   ],
   "source": [
    "y_train.shape"
   ]
  },
  {
   "cell_type": "markdown",
   "metadata": {
    "colab_type": "text",
    "id": "eQVk2Kj3RxhA"
   },
   "source": [
    "## Create Model\n",
    "Instantiate, create, and compile a basic Dense model for testing.\n",
    "\n"
   ]
  },
  {
   "cell_type": "code",
   "execution_count": 62,
   "metadata": {
    "colab": {},
    "colab_type": "code",
    "executionInfo": {
     "elapsed": 537,
     "status": "ok",
     "timestamp": 1592936952249,
     "user": {
      "displayName": "Jesse Neumann",
      "photoUrl": "",
      "userId": "06645636657267556117"
     },
     "user_tz": 360
    },
    "id": "zDvoMuGylNyZ"
   },
   "outputs": [],
   "source": [
    "from keras.models import Sequential \n",
    "from keras import layers \n",
    "from keras.optimizers import RMSprop\n",
    "\n",
    "def get_model():\n",
    "    model = Sequential() \n",
    "    model.add(layers.Dense(150, activation='relu', input_shape=(25, )))  \n",
    "    model.add(layers.Dense(75, activation='relu'))  \n",
    "    model.add(layers.Dropout(.5))  \n",
    "    model.add(layers.Dense(10, activation='relu'))  \n",
    "    model.add(layers.Dense(1))\n",
    "    model.compile(optimizer='adam', loss='mse') \n",
    "    return model"
   ]
  },
  {
   "cell_type": "markdown",
   "metadata": {
    "colab_type": "text",
    "id": "a63qoCCqnDlb"
   },
   "source": [
    "### Test"
   ]
  },
  {
   "cell_type": "code",
   "execution_count": null,
   "metadata": {
    "colab": {
     "base_uri": "https://localhost:8080/",
     "height": 34
    },
    "colab_type": "code",
    "executionInfo": {
     "elapsed": 25021,
     "status": "ok",
     "timestamp": 1592872430416,
     "user": {
      "displayName": "Jesse Neumann",
      "photoUrl": "",
      "userId": "06645636657267556117"
     },
     "user_tz": 360
    },
    "id": "RRJ7DalJctk3",
    "outputId": "bb0fd3f8-d960-41d6-fc3a-765742c4e961"
   },
   "outputs": [
    {
     "data": {
      "text/plain": [
       "376231"
      ]
     },
     "execution_count": 10,
     "metadata": {
      "tags": []
     },
     "output_type": "execute_result"
    }
   ],
   "source": [
    "len(y_train)//10"
   ]
  },
  {
   "cell_type": "code",
   "execution_count": null,
   "metadata": {
    "colab": {
     "base_uri": "https://localhost:8080/",
     "height": 34
    },
    "colab_type": "code",
    "executionInfo": {
     "elapsed": 604,
     "status": "ok",
     "timestamp": 1592879146905,
     "user": {
      "displayName": "Jesse Neumann",
      "photoUrl": "",
      "userId": "06645636657267556117"
     },
     "user_tz": 360
    },
    "id": "ORpCuvbGcxXk",
    "outputId": "d5833470-8abb-4783-8861-81d525269696"
   },
   "outputs": [
    {
     "data": {
      "text/plain": [
       "4702"
      ]
     },
     "execution_count": 30,
     "metadata": {
      "tags": []
     },
     "output_type": "execute_result"
    }
   ],
   "source": [
    "len(y_test)//200"
   ]
  },
  {
   "cell_type": "code",
   "execution_count": null,
   "metadata": {
    "colab": {
     "base_uri": "https://localhost:8080/",
     "height": 34
    },
    "colab_type": "code",
    "executionInfo": {
     "elapsed": 24973,
     "status": "ok",
     "timestamp": 1592872430418,
     "user": {
      "displayName": "Jesse Neumann",
      "photoUrl": "",
      "userId": "06645636657267556117"
     },
     "user_tz": 360
    },
    "id": "nRT2uEsrdA2t",
    "outputId": "17b012f3-41c8-4b02-d513-5f0e6b7a3dd2"
   },
   "outputs": [
    {
     "data": {
      "text/plain": [
       "(3762316, 18)"
      ]
     },
     "execution_count": 12,
     "metadata": {
      "tags": []
     },
     "output_type": "execute_result"
    }
   ],
   "source": [
    "X_train.shape"
   ]
  },
  {
   "cell_type": "code",
   "execution_count": null,
   "metadata": {
    "colab": {
     "base_uri": "https://localhost:8080/",
     "height": 34
    },
    "colab_type": "code",
    "executionInfo": {
     "elapsed": 24949,
     "status": "ok",
     "timestamp": 1592872430424,
     "user": {
      "displayName": "Jesse Neumann",
      "photoUrl": "",
      "userId": "06645636657267556117"
     },
     "user_tz": 360
    },
    "id": "SFY31AYodD32",
    "outputId": "3802650a-e27c-4477-a97a-f23cb58765a3"
   },
   "outputs": [
    {
     "data": {
      "text/plain": [
       "(3762316,)"
      ]
     },
     "execution_count": 13,
     "metadata": {
      "tags": []
     },
     "output_type": "execute_result"
    }
   ],
   "source": [
    "y_train.shape"
   ]
  },
  {
   "cell_type": "code",
   "execution_count": 63,
   "metadata": {
    "colab": {},
    "colab_type": "code",
    "executionInfo": {
     "elapsed": 1479,
     "status": "ok",
     "timestamp": 1592936957290,
     "user": {
      "displayName": "Jesse Neumann",
      "photoUrl": "",
      "userId": "06645636657267556117"
     },
     "user_tz": 360
    },
    "id": "sDu-onFqt3Mv"
   },
   "outputs": [],
   "source": [
    "model = get_model()"
   ]
  },
  {
   "cell_type": "code",
   "execution_count": 64,
   "metadata": {
    "colab": {
     "base_uri": "https://localhost:8080/",
     "height": 714
    },
    "colab_type": "code",
    "executionInfo": {
     "elapsed": 4770572,
     "status": "ok",
     "timestamp": 1592941728570,
     "user": {
      "displayName": "Jesse Neumann",
      "photoUrl": "",
      "userId": "06645636657267556117"
     },
     "user_tz": 360
    },
    "id": "TX0MNK7hZFU9",
    "outputId": "2f913113-a175-4e1c-854d-d319b83208f9"
   },
   "outputs": [
    {
     "name": "stdout",
     "output_type": "stream",
     "text": [
      "Train on 2027301 samples, validate on 85344 samples\n",
      "Epoch 1/20\n",
      "2027301/2027301 [==============================] - 243s 120us/step - loss: 7.0329 - val_loss: 5.0112\n",
      "Epoch 2/20\n",
      "2027301/2027301 [==============================] - 240s 119us/step - loss: 6.7999 - val_loss: 6.0856\n",
      "Epoch 3/20\n",
      "2027301/2027301 [==============================] - 239s 118us/step - loss: 6.7184 - val_loss: 5.9190\n",
      "Epoch 4/20\n",
      "2027301/2027301 [==============================] - 238s 117us/step - loss: 6.6731 - val_loss: 5.9460\n",
      "Epoch 5/20\n",
      "2027301/2027301 [==============================] - 240s 118us/step - loss: 6.6134 - val_loss: 5.6773\n",
      "Epoch 6/20\n",
      "2027301/2027301 [==============================] - 237s 117us/step - loss: 6.6375 - val_loss: 5.6865\n",
      "Epoch 7/20\n",
      "2027301/2027301 [==============================] - 240s 118us/step - loss: 6.5870 - val_loss: 5.7298\n",
      "Epoch 8/20\n",
      "2027301/2027301 [==============================] - 236s 117us/step - loss: 6.5513 - val_loss: 5.8635\n",
      "Epoch 9/20\n",
      "2027301/2027301 [==============================] - 236s 116us/step - loss: 6.5437 - val_loss: 5.1860\n",
      "Epoch 10/20\n",
      "2027301/2027301 [==============================] - 239s 118us/step - loss: 6.5066 - val_loss: 5.1629\n",
      "Epoch 11/20\n",
      "2027301/2027301 [==============================] - 239s 118us/step - loss: 6.5380 - val_loss: 5.7289\n",
      "Epoch 12/20\n",
      "2027301/2027301 [==============================] - 238s 117us/step - loss: 6.5336 - val_loss: 5.5434\n",
      "Epoch 13/20\n",
      "2027301/2027301 [==============================] - 239s 118us/step - loss: 6.4917 - val_loss: 5.1006\n",
      "Epoch 14/20\n",
      "2027301/2027301 [==============================] - 238s 117us/step - loss: 6.4707 - val_loss: 5.3921\n",
      "Epoch 15/20\n",
      "2027301/2027301 [==============================] - 241s 119us/step - loss: 6.4659 - val_loss: 5.7725\n",
      "Epoch 16/20\n",
      "2027301/2027301 [==============================] - 235s 116us/step - loss: 6.4747 - val_loss: 5.7532\n",
      "Epoch 17/20\n",
      "2027301/2027301 [==============================] - 235s 116us/step - loss: 6.4634 - val_loss: 5.2841\n",
      "Epoch 18/20\n",
      "2027301/2027301 [==============================] - 238s 117us/step - loss: 6.4307 - val_loss: 5.9139\n",
      "Epoch 19/20\n",
      "2027301/2027301 [==============================] - 240s 118us/step - loss: 6.4066 - val_loss: 5.2143\n",
      "Epoch 20/20\n",
      "2027301/2027301 [==============================] - 239s 118us/step - loss: 6.4088 - val_loss: 5.0297\n"
     ]
    }
   ],
   "source": [
    "history = model.fit(X_train, \n",
    "                    y_train, \n",
    "                    batch_size=32,\n",
    "                    shuffle=True,\n",
    "                    # steps_per_epoch=len(y_train)//2000,\n",
    "                    epochs=20, \n",
    "                    validation_data=(X_test, y_test),\n",
    "                    # validation_steps=len(y_test)//200\n",
    "                    )"
   ]
  },
  {
   "cell_type": "code",
   "execution_count": 12,
   "metadata": {
    "colab": {},
    "colab_type": "code",
    "executionInfo": {
     "elapsed": 562,
     "status": "ok",
     "timestamp": 1592931542231,
     "user": {
      "displayName": "Jesse Neumann",
      "photoUrl": "",
      "userId": "06645636657267556117"
     },
     "user_tz": 360
    },
    "id": "w7DNusk9q13d"
   },
   "outputs": [],
   "source": [
    "import matplotlib.pyplot as plt"
   ]
  },
  {
   "cell_type": "code",
   "execution_count": 65,
   "metadata": {
    "colab": {
     "base_uri": "https://localhost:8080/",
     "height": 282
    },
    "colab_type": "code",
    "executionInfo": {
     "elapsed": 675,
     "status": "ok",
     "timestamp": 1592941735922,
     "user": {
      "displayName": "Jesse Neumann",
      "photoUrl": "",
      "userId": "06645636657267556117"
     },
     "user_tz": 360
    },
    "id": "kimOrCY_qvQK",
    "outputId": "743abfb5-2ec8-4e51-df91-15d1bb782be9"
   },
   "outputs": [
    {
     "data": {
      "text/plain": [
       "[<matplotlib.lines.Line2D at 0x7fde4698f860>]"
      ]
     },
     "execution_count": 65,
     "metadata": {
      "tags": []
     },
     "output_type": "execute_result"
    },
    {
     "data": {
      "image/png": "[encoded data removed]",
      "text/plain": [
       "<Figure size 432x288 with 1 Axes>"
      ]
     },
     "metadata": {
      "needs_background": "light",
      "tags": []
     },
     "output_type": "display_data"
    }
   ],
   "source": [
    "plt.plot(history.history['loss'])\n",
    "plt.plot(history.history['val_loss'])"
   ]
  },
  {
   "cell_type": "markdown",
   "metadata": {
    "colab_type": "text",
    "id": "HgeUiXpB13fP"
   },
   "source": [
    "## Save Model\n",
    "Save model to disk, used by the logger to create checkpoints. \n",
    "\n",
    "Important because we will be running many notebook kernels in parallel."
   ]
  },
  {
   "cell_type": "code",
   "execution_count": null,
   "metadata": {
    "colab": {},
    "colab_type": "code",
    "id": "AzqWvQSb0Ygf"
   },
   "outputs": [],
   "source": [
    "import pickle\n",
    "\n",
    "def save_model(model, fname):\n",
    "    \"\"\"Serialize model using given filename\n",
    "    Args: \n",
    "        model (serializeable): Model to save\n",
    "        fname (str): File name\n",
    "    Returns:\n",
    "        None  \n",
    "    \"\"\"\n",
    "    pickle.dump(model, open(fname, 'wb'))"
   ]
  },
  {
   "cell_type": "markdown",
   "metadata": {
    "colab_type": "text",
    "id": "HpCmhPb7Mv9b"
   },
   "source": [
    "## WRMSSE Scoring\n",
    "The M5 uses a unique scoring function that incorporates weights of the last 28 days of the series.\n",
    "\n",
    "These functions are from the [WRMSSE Evaluator with extra features](https://www.kaggle.com/dhananjay3/wrmsse-evaluator-with-extra-features) notebook.\n"
   ]
  },
  {
   "cell_type": "code",
   "execution_count": null,
   "metadata": {
    "colab": {},
    "colab_type": "code",
    "id": "WcJ2pNJgBopP"
   },
   "outputs": [],
   "source": [
    "from typing import Union\n",
    "\n",
    "import numpy as np\n",
    "import pandas as pd\n",
    "from tqdm.auto import tqdm as tqdm\n",
    "\n",
    "class WRMSSEEvaluator(object):\n",
    "    \n",
    "    group_ids = ( 'all_id', 'state_id', 'store_id', 'cat_id', 'dept_id', 'item_id',\n",
    "        ['state_id', 'cat_id'],  ['state_id', 'dept_id'], ['store_id', 'cat_id'],\n",
    "        ['store_id', 'dept_id'], ['item_id', 'state_id'], ['item_id', 'store_id'])\n",
    "\n",
    "    def __init__(self, \n",
    "                 train_df: pd.DataFrame, \n",
    "                 valid_df: pd.DataFrame, \n",
    "                 calendar: pd.DataFrame, \n",
    "                 prices: pd.DataFrame):\n",
    "        '''\n",
    "        intialize and calculate weights\n",
    "        '''\n",
    "        self.calendar = calendar\n",
    "        self.prices = prices\n",
    "        self.train_df = train_df\n",
    "        self.valid_df = valid_df\n",
    "        self.train_target_columns = [i for i in self.train_df.columns if i.startswith('d_')]\n",
    "        self.weight_columns = self.train_df.iloc[:, -28:].columns.tolist()\n",
    "\n",
    "        self.train_df['all_id'] = \"all\"\n",
    "\n",
    "        self.id_columns = [i for i in self.train_df.columns if not i.startswith('d_')]\n",
    "        self.valid_target_columns = [i for i in self.valid_df.columns if i.startswith('d_')]\n",
    "\n",
    "        if not all([c in self.valid_df.columns for c in self.id_columns]):\n",
    "            self.valid_df = pd.concat([self.train_df[self.id_columns], self.valid_df],\n",
    "                                      axis=1, \n",
    "                                      sort=False)\n",
    "        self.train_series = self.trans_30490_to_42840(self.train_df, \n",
    "                                                      self.train_target_columns, \n",
    "                                                      self.group_ids)\n",
    "        self.valid_series = self.trans_30490_to_42840(self.valid_df, \n",
    "                                                      self.valid_target_columns, \n",
    "                                                      self.group_ids)\n",
    "        self.weights = self.get_weight_df()\n",
    "        self.scale = self.get_scale()\n",
    "        self.train_series = None\n",
    "        self.train_df = None\n",
    "        self.prices = None\n",
    "        self.calendar = None\n",
    "\n",
    "    def get_scale(self):\n",
    "        '''\n",
    "        scaling factor for each series ignoring starting zeros\n",
    "        '''\n",
    "        scales = []\n",
    "        for i in tqdm(range(len(self.train_series))):\n",
    "            series = self.train_series.iloc[i].values\n",
    "            series = series[np.argmax(series!=0):]\n",
    "            scale = ((series[1:] - series[:-1]) ** 2).mean()\n",
    "            scales.append(scale)\n",
    "        return np.array(scales)\n",
    "    \n",
    "    def get_name(self, i):\n",
    "        '''\n",
    "        convert a str or list of strings to unique string \n",
    "        used for naming each of 42840 series\n",
    "        '''\n",
    "        if type(i) == str or type(i) == int:\n",
    "            return str(i)\n",
    "        else:\n",
    "            return \"--\".join(i)\n",
    "    \n",
    "    def get_weight_df(self) -> pd.DataFrame:\n",
    "        \"\"\"\n",
    "        returns weights for each of 42840 series in a dataFrame\n",
    "        \"\"\"\n",
    "        day_to_week = self.calendar.set_index(\"d\")[\"wm_yr_wk\"].to_dict()\n",
    "        weight_df = self.train_df[[\"item_id\", \"store_id\"] + self.weight_columns].set_index(\n",
    "            [\"item_id\", \"store_id\"]\n",
    "        )\n",
    "        weight_df = (\n",
    "            weight_df.stack().reset_index().rename(columns={\"level_2\": \"d\", 0: \"value\"})\n",
    "        )\n",
    "        weight_df[\"wm_yr_wk\"] = weight_df[\"d\"].map(day_to_week)\n",
    "        weight_df = weight_df.merge(\n",
    "            self.prices, how=\"left\", on=[\"item_id\", \"store_id\", \"wm_yr_wk\"]\n",
    "        )\n",
    "        weight_df[\"value\"] = weight_df[\"value\"] * weight_df[\"sell_price\"]\n",
    "        weight_df = weight_df.set_index([\"item_id\", \"store_id\", \"d\"]).unstack(level=2)[\n",
    "            \"value\"\n",
    "        ]\n",
    "        weight_df = weight_df.loc[\n",
    "            zip(self.train_df.item_id, self.train_df.store_id), :\n",
    "        ].reset_index(drop=True)\n",
    "        weight_df = pd.concat(\n",
    "            [self.train_df[self.id_columns], weight_df], axis=1, sort=False\n",
    "        )\n",
    "        weights_map = {}\n",
    "        for i, group_id in enumerate(tqdm(self.group_ids, leave=False)):\n",
    "            lv_weight = weight_df.groupby(group_id)[self.weight_columns].sum().sum(axis=1)\n",
    "            lv_weight = lv_weight / lv_weight.sum()\n",
    "            for i in range(len(lv_weight)):\n",
    "                weights_map[self.get_name(lv_weight.index[i])] = np.array(\n",
    "                    [lv_weight.iloc[i]]\n",
    "                )\n",
    "        weights = pd.DataFrame(weights_map).T / len(self.group_ids)\n",
    "\n",
    "        return weights\n",
    "\n",
    "    def trans_30490_to_42840(self, df, cols, group_ids, dis=False):\n",
    "        '''\n",
    "        transform 30490 sries to all 42840 series\n",
    "        '''\n",
    "        series_map = {}\n",
    "        for i, group_id in enumerate(tqdm(self.group_ids, leave=False, disable=dis)):\n",
    "            tr = df.groupby(group_id)[cols].sum()\n",
    "            for i in range(len(tr)):\n",
    "                series_map[self.get_name(tr.index[i])] = tr.iloc[i].values\n",
    "        return pd.DataFrame(series_map).T\n",
    "    \n",
    "    def get_rmsse(self, valid_preds) -> pd.Series:\n",
    "        '''\n",
    "        returns rmsse scores for all 42840 series\n",
    "        '''\n",
    "        score = ((self.valid_series - valid_preds) ** 2).mean(axis=1)\n",
    "        rmsse = (score / self.scale).map(np.sqrt)\n",
    "        return rmsse\n",
    "\n",
    "    def score(self, valid_preds: Union[pd.DataFrame, np.ndarray]) -> float:\n",
    "        assert self.valid_df[self.valid_target_columns].shape == valid_preds.shape\n",
    "\n",
    "        if isinstance(valid_preds, np.ndarray):\n",
    "            valid_preds = pd.DataFrame(valid_preds, columns=self.valid_target_columns)\n",
    "\n",
    "        valid_preds = pd.concat([self.valid_df[self.id_columns], valid_preds],\n",
    "                                axis=1, \n",
    "                                sort=False)\n",
    "        valid_preds = self.trans_30490_to_42840(valid_preds, \n",
    "                                                self.valid_target_columns, \n",
    "                                                self.group_ids, \n",
    "                                                True)\n",
    "        self.rmsse = self.get_rmsse(valid_preds)\n",
    "        self.contributors = pd.concat([self.weights, self.rmsse], \n",
    "                                      axis=1, \n",
    "                                      sort=False).prod(axis=1)\n",
    "        return np.sum(self.contributors)"
   ]
  },
  {
   "cell_type": "markdown",
   "metadata": {
    "colab_type": "text",
    "id": "7WqeI0FtlLNt"
   },
   "source": [
    "### Example\n",
    "Load in our data, create a fake predictions array to pass in and make sure we are getting a score back."
   ]
  },
  {
   "cell_type": "code",
   "execution_count": null,
   "metadata": {
    "colab": {},
    "colab_type": "code",
    "id": "vYCdq4ssjC-G"
   },
   "outputs": [],
   "source": [
    "!cp /content/drive/My\\ Drive/m5/m5-forecasting-accuracy.zip /content"
   ]
  },
  {
   "cell_type": "code",
   "execution_count": null,
   "metadata": {
    "colab": {},
    "colab_type": "code",
    "id": "vjfHmmlSjOdq"
   },
   "outputs": [],
   "source": [
    "!unzip /content/m5-forecasting-accuracy.zip"
   ]
  },
  {
   "cell_type": "code",
   "execution_count": null,
   "metadata": {
    "colab": {},
    "colab_type": "code",
    "id": "9Mx1-lyuif0m"
   },
   "outputs": [],
   "source": [
    "%%time\n",
    "\n",
    "train_df = pd.read_csv('./sales_train_validation.csv')\n",
    "calendar = pd.read_csv('./calendar.csv')\n",
    "prices = pd.read_csv('./sell_prices.csv')\n",
    "\n",
    "train_fold_df = train_df.iloc[:, :-28]\n",
    "valid_fold_df = train_df.iloc[:, -28:].copy()\n",
    "\n",
    "e = WRMSSEEvaluator(train_fold_df, valid_fold_df, calendar, prices)\n",
    "del train_fold_df, train_df, calendar, prices"
   ]
  },
  {
   "cell_type": "code",
   "execution_count": null,
   "metadata": {
    "colab": {},
    "colab_type": "code",
    "id": "vNePHPYmjiPW"
   },
   "outputs": [],
   "source": [
    "valid_fold_df"
   ]
  },
  {
   "cell_type": "code",
   "execution_count": null,
   "metadata": {
    "colab": {},
    "colab_type": "code",
    "id": "lYD0WZyfjqFs"
   },
   "outputs": [],
   "source": [
    "valid_preds = np.random.randint(4, size=valid_fold_df.shape)\n",
    "e.score(valid_preds)"
   ]
  },
  {
   "cell_type": "markdown",
   "metadata": {
    "colab_type": "text",
    "id": "i6_iizDnx3Fl"
   },
   "source": [
    "## Build Submission\n",
    "Take predictions and unmelt them so they are back in wide form."
   ]
  },
  {
   "cell_type": "code",
   "execution_count": null,
   "metadata": {
    "colab": {},
    "colab_type": "code",
    "id": "imQ378OByNaU"
   },
   "outputs": [],
   "source": [
    "# TODO"
   ]
  },
  {
   "cell_type": "markdown",
   "metadata": {
    "colab_type": "text",
    "id": "sO8qrCLA2bG8"
   },
   "source": [
    "## Model Log\n",
    "Save a pickle of the model and enter the details into the log."
   ]
  },
  {
   "cell_type": "code",
   "execution_count": null,
   "metadata": {
    "colab": {},
    "colab_type": "code",
    "id": "l-TN5PLZ2khZ"
   },
   "outputs": [],
   "source": [
    "from datetime import datetime\n",
    "import os\n",
    "\n",
    "def log_model(model, score, model_name, description):\n",
    "    \"\"\"Save model and create an entry in 'model_log.log'\n",
    "    Args: \n",
    "        model (can predict): Model to score and save\n",
    "        model_name (str): Name to associate with model\n",
    "        description (str): Any special information to associated with model\n",
    "    Returns:\n",
    "        None\n",
    "    \"\"\"\n",
    "    timestamp = datetime.now()\n",
    "\n",
    "    path = f'./{model_name}'\n",
    "    fname = f'{path}/{timestamp.date()}-{timestamp.time()}-{score}.pickle'\n",
    "    \n",
    "    try:\n",
    "      os.listdir(path)\n",
    "    except:\n",
    "      os.mkdir(path)\n",
    "    \n",
    "    save_model(model, fname)\n",
    "    \n",
    "    with open(f'./{model_name}/model_log.log', 'a') as log:\n",
    "        entry = f\"{timestamp}, {description}, {score}, {fname}\\n\"\n",
    "        log.write(entry)"
   ]
  },
  {
   "cell_type": "markdown",
   "metadata": {
    "colab_type": "text",
    "id": "idvtPg8pFhpq"
   },
   "source": [
    "### Example\n",
    "We will load the iris dataset into a stock logistic regression model from sklearn.\n",
    "\n",
    "Then we can fit it and score its predictions before we try to log it. \n",
    "\n",
    "The log function will pickle the model and write an entry to our log data frame."
   ]
  },
  {
   "cell_type": "code",
   "execution_count": null,
   "metadata": {
    "colab": {},
    "colab_type": "code",
    "id": "k4hiZuKjFyC5"
   },
   "outputs": [],
   "source": [
    "from sklearn import datasets\n",
    "test_data = datasets.load_iris()"
   ]
  },
  {
   "cell_type": "code",
   "execution_count": null,
   "metadata": {
    "colab": {},
    "colab_type": "code",
    "id": "OgJW5eb_GFZT"
   },
   "outputs": [],
   "source": [
    "X = test_data.data \n",
    "y = test_data.target"
   ]
  },
  {
   "cell_type": "code",
   "execution_count": null,
   "metadata": {
    "colab": {},
    "colab_type": "code",
    "id": "_mBiKGAvFgPr"
   },
   "outputs": [],
   "source": [
    "from sklearn.linear_model import LogisticRegression\n",
    "model = LogisticRegression()\n",
    "model.fit(X, y)\n",
    "score = model.score(X, y)"
   ]
  },
  {
   "cell_type": "code",
   "execution_count": null,
   "metadata": {
    "colab": {},
    "colab_type": "code",
    "id": "gnFeovZgGnlY"
   },
   "outputs": [],
   "source": [
    "log_model(model, score, 'logistic_regression', 'score works')"
   ]
  },
  {
   "cell_type": "code",
   "execution_count": null,
   "metadata": {
    "colab": {},
    "colab_type": "code",
    "id": "8GZlL9WsHCC1"
   },
   "outputs": [],
   "source": [
    "import pandas as pd\n",
    "log_df = pd.read_csv('./logistic_regression/model_log.log', names=['timestamp', 'description', 'score', 'filename'])"
   ]
  },
  {
   "cell_type": "code",
   "execution_count": null,
   "metadata": {
    "colab": {},
    "colab_type": "code",
    "id": "6MSuI8yEKdJi"
   },
   "outputs": [],
   "source": [
    "log_df.head()"
   ]
  },
  {
   "cell_type": "code",
   "execution_count": null,
   "metadata": {
    "colab": {},
    "colab_type": "code",
    "id": "ct4wEccJk02z"
   },
   "outputs": [],
   "source": []
  }
 ],
 "metadata": {
  "accelerator": "GPU",
  "colab": {
   "collapsed_sections": [],
   "machine_shape": "hm",
   "name": "m5_initial.ipynb",
   "provenance": [
    {
     "file_id": "11diaDKnZscja0KH9KJxpahLUG0ksieHj",
     "timestamp": 1592891205085
    }
   ],
   "toc_visible": true
  },
  "kernelspec": {
   "display_name": "Python 3",
   "language": "python",
   "name": "python3"
  },
  "language_info": {
   "codemirror_mode": {
    "name": "ipython",
    "version": 3
   },
   "file_extension": ".py",
   "mimetype": "text/x-python",
   "name": "python",
   "nbconvert_exporter": "python",
   "pygments_lexer": "ipython3",
   "version": "3.7.6"
  },
  "toc": {
   "base_numbering": 1,
   "nav_menu": {},
   "number_sections": true,
   "sideBar": true,
   "skip_h1_title": false,
   "title_cell": "Table of Contents",
   "title_sidebar": "Contents",
   "toc_cell": false,
   "toc_position": {},
   "toc_section_display": true,
   "toc_window_display": false
  }
 },
 "nbformat": 4,
 "nbformat_minor": 1
}
