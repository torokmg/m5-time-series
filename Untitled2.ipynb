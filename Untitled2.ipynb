{
 "cells": [
  {
   "cell_type": "code",
   "execution_count": 1,
   "metadata": {},
   "outputs": [],
   "source": [
    "import pandas as pd\n",
    "import numpy as np\n",
    "from fbprophet import Prophet\n",
    "from tqdm import tqdm, tnrange\n",
    "from multiprocessing import Pool, cpu_count"
   ]
  },
  {
   "cell_type": "code",
   "execution_count": 2,
   "metadata": {},
   "outputs": [],
   "source": [
    "calendar_df = pd.read_csv('calendar.csv')\n",
    "sales_train =  pd.read_csv('sales_train_validation.csv')\n",
    "sell_prices = pd.read_csv('sell_prices.csv')\n",
    "submission = pd.read_csv('sample_submission.csv')"
   ]
  },
  {
   "cell_type": "code",
   "execution_count": 3,
   "metadata": {},
   "outputs": [],
   "source": [
    "def run_prophet(timeserie):\n",
    "    model = Prophet(uncertainty_samples=False)\n",
    "    model.fit(timeserie)\n",
    "    future = model.make_future_dataframe(periods=28, include_history=False)\n",
    "    forecast = model.predict(future)\n",
    "    return forecast"
   ]
  },
  {
   "cell_type": "code",
   "execution_count": null,
   "metadata": {},
   "outputs": [
    {
     "name": "stderr",
     "output_type": "stream",
     "text": [
      "C:\\ProgramData\\Anaconda3\\lib\\site-packages\\ipykernel_launcher.py:3: TqdmDeprecationWarning: Please use `tqdm.notebook.trange` instead of `tqdm.tnrange`\n",
      "  This is separate from the ipykernel package so we can avoid doing imports until\n"
     ]
    },
    {
     "data": {
      "application/vnd.jupyter.widget-view+json": {
       "model_id": "32b24a01e9ac48c989b5f22c087d11f0",
       "version_major": 2,
       "version_minor": 0
      },
      "text/plain": [
       "HBox(children=(FloatProgress(value=0.0, max=30490.0), HTML(value='')))"
      ]
     },
     "metadata": {},
     "output_type": "display_data"
    },
    {
     "name": "stdout",
     "output_type": "stream",
     "text": [
      "\n"
     ]
    }
   ],
   "source": [
    "temp_series_list = []\n",
    "start_from_ob = 800\n",
    "for i in tnrange(sales_train.shape[0]):\n",
    "    temp_series = sales_train.iloc[i,start_from_ob + 6:]\n",
    "    temp_series.index = calendar_df['date'][start_from_ob:start_from_ob+len(temp_series)]\n",
    "    temp_series =  pd.DataFrame(temp_series)\n",
    "    temp_series = temp_series.reset_index()\n",
    "    temp_series.columns = ['ds', 'y']\n",
    "    temp_series_list.append(temp_series)\n",
    "\n",
    "p = Pool(cpu_count())\n",
    "\n",
    "with Pool(cpu_count()) as p:\n",
    "    forecast1 = p.map(run_prophet, temp_series_list)\n",
    "\n",
    "p.close()\n",
    "\n",
    "for i in tnrange(sales_train.shape[0]):\n",
    "    submission.iloc[i,1:] = forecast1[i]['yhat'].values\n",
    "\n",
    "submission.iloc[:,1:]=submission.iloc[:,1:].where(submission.iloc[:,1:] > 0).fillna(0)"
   ]
  },
  {
   "cell_type": "code",
   "execution_count": null,
   "metadata": {},
   "outputs": [],
   "source": [
    "submission.head()"
   ]
  },
  {
   "cell_type": "code",
   "execution_count": null,
   "metadata": {},
   "outputs": [],
   "source": []
  }
 ],
 "metadata": {
  "kernelspec": {
   "display_name": "Python 3",
   "language": "python",
   "name": "python3"
  },
  "language_info": {
   "codemirror_mode": {
    "name": "ipython",
    "version": 3
   },
   "file_extension": ".py",
   "mimetype": "text/x-python",
   "name": "python",
   "nbconvert_exporter": "python",
   "pygments_lexer": "ipython3",
   "version": "3.7.6"
  }
 },
 "nbformat": 4,
 "nbformat_minor": 4
}
