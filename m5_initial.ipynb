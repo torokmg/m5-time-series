{
 "cells": [
  {
   "cell_type": "markdown",
   "metadata": {
    "colab_type": "text",
    "id": "YrANT3UJvXxn"
   },
   "source": [
    "# M5 Forecasting"
   ]
  },
  {
   "cell_type": "markdown",
   "metadata": {
    "colab_type": "text",
    "id": "BnXQYamK0ZvZ"
   },
   "source": [
    "## Logger\n",
    "Logger scores model and saves a copy of the scores and model in their respective folders."
   ]
  },
  {
   "cell_type": "markdown",
   "metadata": {
    "colab_type": "text",
    "id": "H-5Lz4wF19SC"
   },
   "source": [
    "### Score Model\n",
    "Run scoring function on model"
   ]
  },
  {
   "cell_type": "code",
   "execution_count": null,
   "metadata": {
    "colab": {},
    "colab_type": "code",
    "id": "OiDE1xoj1_gZ"
   },
   "outputs": [],
   "source": [
    "def score_model(model):\n",
    "    return WRMMSE(model)"
   ]
  },
  {
   "cell_type": "markdown",
   "metadata": {
    "colab_type": "text",
    "id": "HgeUiXpB13fP"
   },
   "source": [
    "### Save Model\n",
    "Save model to disk"
   ]
  },
  {
   "cell_type": "code",
   "execution_count": 2,
   "metadata": {
    "colab": {},
    "colab_type": "code",
    "executionInfo": {
     "elapsed": 509,
     "status": "ok",
     "timestamp": 1592591346213,
     "user": {
      "displayName": "Jesse Neumann",
      "photoUrl": "",
      "userId": "06645636657267556117"
     },
     "user_tz": 360
    },
    "id": "AzqWvQSb0Ygf"
   },
   "outputs": [],
   "source": [
    "import pickle\n",
    "\n",
    "def save_model(model, fname):\n",
    "    pickle.dump(model, open(fname, 'wb'))"
   ]
  },
  {
   "cell_type": "markdown",
   "metadata": {
    "colab_type": "text",
    "id": "sO8qrCLA2bG8"
   },
   "source": [
    "### Log Model\n",
    "Combine previous function into main logging function"
   ]
  },
  {
   "cell_type": "code",
   "execution_count": null,
   "metadata": {
    "colab": {},
    "colab_type": "code",
    "id": "l-TN5PLZ2khZ"
   },
   "outputs": [],
   "source": [
    "from datetime import datetime\n",
    "\n",
    "def log_model(model, model_name):\n",
    "    score = score_model(model)\n",
    "    fname = f\"{datetime.now()}-{model_name}-{score}\"\n",
    "  \n"
   ]
  },
  {
   "cell_type": "code",
   "execution_count": null,
   "metadata": {
    "colab": {},
    "colab_type": "code",
    "id": "JmhUM469vbeg"
   },
   "outputs": [],
   "source": [
    "new branch"
   ]
  }
 ],
 "metadata": {
  "colab": {
   "authorship_tag": "ABX9TyNAwfRcd5mcAFiUJ7YAOJK8",
   "name": "m5_initial.ipynb",
   "provenance": []
  },
  "kernelspec": {
   "display_name": "Python 3",
   "language": "python",
   "name": "python3"
  },
  "language_info": {
   "codemirror_mode": {
    "name": "ipython",
    "version": 3
   },
   "file_extension": ".py",
   "mimetype": "text/x-python",
   "name": "python",
   "nbconvert_exporter": "python",
   "pygments_lexer": "ipython3",
   "version": "3.8.3"
  },
  "toc": {
   "base_numbering": 1,
   "nav_menu": {},
   "number_sections": true,
   "sideBar": true,
   "skip_h1_title": false,
   "title_cell": "Table of Contents",
   "title_sidebar": "Contents",
   "toc_cell": false,
   "toc_position": {},
   "toc_section_display": true,
   "toc_window_display": false
  }
 },
 "nbformat": 4,
 "nbformat_minor": 1
}
