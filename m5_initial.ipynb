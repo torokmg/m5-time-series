{
  "nbformat": 4,
  "nbformat_minor": 0,
  "metadata": {
    "colab": {
      "name": "m5_initial.ipynb",
      "provenance": [],
      "authorship_tag": "ABX9TyOT5nhIcCGcqKK342j09t9W",
      "include_colab_link": true
    },
    "kernelspec": {
      "name": "python3",
      "display_name": "Python 3"
    }
  },
  "cells": [
    {
      "cell_type": "markdown",
      "metadata": {
        "id": "view-in-github",
        "colab_type": "text"
      },
      "source": [
        "<a href=\"https://colab.research.google.com/github/torokmg/zillow-time-series/blob/master/m5_initial.ipynb\" target=\"_parent\"><img src=\"https://colab.research.google.com/assets/colab-badge.svg\" alt=\"Open In Colab\"/></a>"
      ]
    },
    {
      "cell_type": "markdown",
      "metadata": {
        "id": "YrANT3UJvXxn",
        "colab_type": "text"
      },
      "source": [
        "# M5 Forecasting"
      ]
    },
    {
      "cell_type": "code",
      "metadata": {
        "id": "JmhUM469vbeg",
        "colab_type": "code",
        "colab": {}
      },
      "source": [
        ""
      ],
      "execution_count": null,
      "outputs": []
    }
  ]
}